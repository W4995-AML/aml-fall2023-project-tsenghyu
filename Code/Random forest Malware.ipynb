{
 "cells": [
  {
   "cell_type": "code",
   "execution_count": 1,
   "id": "975cbb10",
   "metadata": {},
   "outputs": [],
   "source": [
    "import pandas as pd\n",
    "import numpy as np"
   ]
  },
  {
   "cell_type": "code",
   "execution_count": 2,
   "id": "e6be1418",
   "metadata": {},
   "outputs": [
    {
     "name": "stderr",
     "output_type": "stream",
     "text": [
      "C:\\Users\\Selim\\AppData\\Local\\Temp\\ipykernel_16324\\2949129822.py:1: DtypeWarning: Columns (28) have mixed types. Specify dtype option on import or set low_memory=False.\n",
      "  train = pd.read_csv('train.csv')\n"
     ]
    }
   ],
   "source": [
    "train = pd.read_csv('train.csv')"
   ]
  },
  {
   "cell_type": "code",
   "execution_count": 3,
   "id": "6ab0f144",
   "metadata": {},
   "outputs": [],
   "source": [
    "train = train.drop(columns = ['MachineIdentifier', 'AvSigVersion', 'IsBeta', 'RtpStateBitfield', 'DefaultBrowsersIdentifier', 'AVProductsInstalled', \n",
    "      'HasTpm', 'LocaleEnglishNameIdentifier', 'PuaMode', 'SMode', 'SmartScreen', 'UacLuaenable', 'Census_DeviceFamily', 'Census_ProcessorClass',\n",
    "      'Census_InternalBatteryType', 'Census_IsPortableOperatingSystem', 'Census_IsFlightingInternal', 'Census_ThresholdOptIn',\n",
    "       'OrganizationIdentifier', 'Census_IsWIMBootEnabled'])\n",
    "train.shape\n",
    "#Preprocessing to remove unusable variables\n",
    "#cols to drop because they are either id's that are too spread out, have only 1 value or contain 30%+ missing data \n",
    "train = train.sample(1784296)\n",
    "train = train.dropna()"
   ]
  },
  {
   "cell_type": "code",
   "execution_count": 4,
   "id": "f3b75d7f",
   "metadata": {},
   "outputs": [],
   "source": [
    "from sklearn.ensemble import RandomForestClassifier\n",
    "from sklearn.model_selection import train_test_split"
   ]
  },
  {
   "cell_type": "code",
   "execution_count": 5,
   "id": "41d79924",
   "metadata": {},
   "outputs": [
    {
     "name": "stdout",
     "output_type": "stream",
     "text": [
      "EngineVersion\n",
      "AppVersion\n",
      "OsBuildLab\n",
      "Census_ChassisTypeName\n",
      "Census_OSVersion\n"
     ]
    },
    {
     "name": "stderr",
     "output_type": "stream",
     "text": [
      "C:\\Users\\Selim\\AppData\\Local\\Temp\\ipykernel_16324\\1363444013.py:8: FutureWarning: The default value of regex will change from True to False in a future version. In addition, single character regular expressions will *not* be treated as literal strings when regex=True.\n",
      "  train['EngineVersion'] = train['EngineVersion'].str.replace('.', '').astype(int)\n"
     ]
    }
   ],
   "source": [
    "#Find the variables that have too many classes to OHE\n",
    "\n",
    "for i in train.columns:\n",
    "    if pd.get_dummies(train[[i]]).shape[1] > 30:\n",
    "        print(i)\n",
    "#We will use target encoding to replace these, or preprocess them in a different way\n",
    "target = train['HasDetections'].mean()\n",
    "train['EngineVersion'] = train['EngineVersion'].str.replace('.', '').astype(int)\n",
    "train['AppVersion'] = train['AppVersion'].shape[0] * [target]\n",
    "train['OsBuildLab'] = train['OsBuildLab'].shape[0] * [target]\n",
    "train['Census_ChassisTypeName'] = train['Census_ChassisTypeName'].shape[0] * [target]\n",
    "train['Census_OSVersion'] = train['Census_OSVersion'].shape[0] * [target]"
   ]
  },
  {
   "cell_type": "code",
   "execution_count": 6,
   "id": "2e849ecc",
   "metadata": {},
   "outputs": [],
   "source": [
    "X_dev, X_test, y_dev, y_test = train_test_split(train.iloc[:, 0:-1], train['HasDetections'],test_size = 0.2, random_state = 42)\n",
    "X_train, X_val, y_train, y_val = train_test_split(X_dev, y_dev,test_size = 0.25, random_state = 42)\n"
   ]
  },
  {
   "cell_type": "code",
   "execution_count": 7,
   "id": "dd4aa155",
   "metadata": {},
   "outputs": [],
   "source": [
    "X_train = pd.get_dummies(X_train)\n",
    "X_val = pd.get_dummies(X_val)\n",
    "X_test = pd.get_dummies(X_test)\n"
   ]
  },
  {
   "cell_type": "code",
   "execution_count": 8,
   "id": "5ed6c286",
   "metadata": {},
   "outputs": [
    {
     "data": {
      "text/plain": [
       "((919411, 179), (306471, 179), (306471, 183))"
      ]
     },
     "execution_count": 8,
     "metadata": {},
     "output_type": "execute_result"
    }
   ],
   "source": [
    "a = np.intersect1d(X_train.columns, X_val.columns)\n",
    "X_train = X_train[a]\n",
    "X_val = X_val[a]\n",
    "X_train.shape, X_val.shape, X_test.shape"
   ]
  },
  {
   "cell_type": "code",
   "execution_count": 9,
   "id": "70336d3b",
   "metadata": {},
   "outputs": [
    {
     "data": {
      "text/plain": [
       "((919411, 177), (306471, 177), (306471, 177))"
      ]
     },
     "execution_count": 9,
     "metadata": {},
     "output_type": "execute_result"
    }
   ],
   "source": [
    "a = np.intersect1d(X_train.columns, X_test.columns)\n",
    "X_test = X_test[a]\n",
    "X_train = X_train[a]\n",
    "X_val = X_val[a]\n",
    "X_train.shape, X_val.shape, X_test.shape\n"
   ]
  },
  {
   "cell_type": "code",
   "execution_count": 10,
   "id": "2a0eed13",
   "metadata": {},
   "outputs": [
    {
     "name": "stdout",
     "output_type": "stream",
     "text": [
      "Accuracy on train set 0.9996965448531723\n",
      "Accuracy on val set 0.6169099196987643\n"
     ]
    }
   ],
   "source": [
    "clf = RandomForestClassifier(random_state = 42)\n",
    "clf = clf.fit(X_train, y_train)\n",
    "results_train= (clf.predict(X_train) == y_train)\n",
    "print('Accuracy on train set' , results_train.sum()/results_train.shape[0])\n",
    "results_test = (clf.predict(X_val) == y_val)\n",
    "print('Accuracy on val set' , results_test.sum()/results_test.shape[0])"
   ]
  },
  {
   "cell_type": "markdown",
   "id": "a8e396af",
   "metadata": {},
   "source": [
    "Obviously we are overfitting on the train set here, so lets perform some CV with random search"
   ]
  },
  {
   "cell_type": "code",
   "execution_count": 11,
   "id": "b1810503",
   "metadata": {},
   "outputs": [],
   "source": [
    "from sklearn.model_selection import cross_val_score\n",
    "from scipy.stats import uniform as sp_randFloat\n",
    "from scipy.stats import randint as sp_randInt\n",
    "from sklearn.model_selection import RandomizedSearchCV"
   ]
  },
  {
   "cell_type": "code",
   "execution_count": 12,
   "id": "f3bf8e4a",
   "metadata": {},
   "outputs": [
    {
     "data": {
      "text/plain": [
       "{'min_impurity_decrease': 0.07993430241516873,\n",
       " 'max_depth': 5,\n",
       " 'criterion': 'gini'}"
      ]
     },
     "execution_count": 12,
     "metadata": {},
     "output_type": "execute_result"
    }
   ],
   "source": [
    "clf = RandomForestClassifier(random_state = 42)\n",
    "parameters = {'criterion': ['gini', 'entropy'],'max_depth':sp_randInt(5,25).rvs(5), 'min_impurity_decrease':  sp_randFloat(0,0.2).rvs(5)}\n",
    "rand = RandomizedSearchCV(estimator=clf, param_distributions = parameters, \n",
    "                               cv = 5, n_iter = 5, n_jobs=-1, scoring = 'accuracy')\n",
    "search = rand.fit(X_train, y_train)\n",
    "search.best_params_"
   ]
  },
  {
   "cell_type": "code",
   "execution_count": 13,
   "id": "5e94191a",
   "metadata": {},
   "outputs": [
    {
     "name": "stdout",
     "output_type": "stream",
     "text": [
      "Accuracy on train set 0.5008804549869428\n",
      "Accuracy on val set 0.5010816684123457\n",
      "Accuracy on train set 0.5006574847212297\n"
     ]
    }
   ],
   "source": [
    "clf = RandomForestClassifier(random_state = 42 , max_depth = search.best_params_['max_depth'], min_impurity_decrease = search.best_params_['min_impurity_decrease'],\n",
    "                            criterion = search.best_params_['criterion'])\n",
    "clf = clf.fit(X_train, y_train)\n",
    "results_train= (clf.predict(X_train) == y_train)\n",
    "print('Accuracy on train set' , results_train.sum()/results_train.shape[0])\n",
    "results_test = (clf.predict(X_val) == y_val)\n",
    "print('Accuracy on val set' , results_test.sum()/results_test.shape[0])\n",
    "results_final= (clf.predict(X_test) == y_test)\n",
    "print('Accuracy on train set' , results_final.sum()/results_final.shape[0])"
   ]
  },
  {
   "cell_type": "code",
   "execution_count": 14,
   "id": "e390d952",
   "metadata": {},
   "outputs": [
    {
     "name": "stdout",
     "output_type": "stream",
     "text": [
      "Accuracy on train set 0.5006574847212297\n"
     ]
    }
   ],
   "source": [
    "results_final= (clf.predict(X_test) == y_test)\n",
    "print('Accuracy on train set' , results_final.sum()/results_final.shape[0])"
   ]
  },
  {
   "cell_type": "code",
   "execution_count": 15,
   "id": "a4ce83a5",
   "metadata": {},
   "outputs": [
    {
     "data": {
      "text/plain": [
       "{'min_samples_split': 67, 'max_depth': 17, 'criterion': 'entropy'}"
      ]
     },
     "execution_count": 15,
     "metadata": {},
     "output_type": "execute_result"
    }
   ],
   "source": [
    "clf = RandomForestClassifier(random_state = 42)\n",
    "parameters = {'criterion': ['gini', 'entropy'],'max_depth':sp_randInt(5,25).rvs(5), 'min_samples_split':  sp_randInt(2,100).rvs(5)}\n",
    "rand = RandomizedSearchCV(estimator=clf, param_distributions = parameters, \n",
    "                               cv = 5, n_iter = 5, n_jobs=-1, scoring = 'accuracy')\n",
    "search = rand.fit(X_train, y_train)\n",
    "search.best_params_"
   ]
  },
  {
   "cell_type": "code",
   "execution_count": 16,
   "id": "2335ada0",
   "metadata": {},
   "outputs": [
    {
     "name": "stdout",
     "output_type": "stream",
     "text": [
      "Accuracy on train set 0.6411343784227076\n",
      "Accuracy on val set 0.6194680736513406\n",
      "Accuracy on train set 0.6183227776853275\n"
     ]
    }
   ],
   "source": [
    "clf = RandomForestClassifier(random_state = 42 , max_depth = search.best_params_['max_depth'], min_samples_split = search.best_params_['min_samples_split'],\n",
    "                            criterion = search.best_params_['criterion'], )\n",
    "clf = clf.fit(X_train, y_train)\n",
    "results_train= (clf.predict(X_train) == y_train)\n",
    "print('Accuracy on train set' , results_train.sum()/results_train.shape[0])\n",
    "results_test = (clf.predict(X_val) == y_val)\n",
    "print('Accuracy on val set' , results_test.sum()/results_test.shape[0])\n",
    "results_final= (clf.predict(X_test) == y_test)\n",
    "print('Accuracy on train set' , results_final.sum()/results_final.shape[0])"
   ]
  },
  {
   "cell_type": "code",
   "execution_count": null,
   "id": "ec7a609a",
   "metadata": {},
   "outputs": [],
   "source": []
  }
 ],
 "metadata": {
  "kernelspec": {
   "display_name": "Python 3 (ipykernel)",
   "language": "python",
   "name": "python3"
  },
  "language_info": {
   "codemirror_mode": {
    "name": "ipython",
    "version": 3
   },
   "file_extension": ".py",
   "mimetype": "text/x-python",
   "name": "python",
   "nbconvert_exporter": "python",
   "pygments_lexer": "ipython3",
   "version": "3.9.13"
  }
 },
 "nbformat": 4,
 "nbformat_minor": 5
}
