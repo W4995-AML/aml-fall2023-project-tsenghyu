{
 "cells": [
  {
   "cell_type": "markdown",
   "metadata": {
    "_cell_guid": "b1076dfc-b9ad-4769-8c92-a6c4dae69d19",
    "_uuid": "8f2839f25d086af736a60e9eeb907d3b93b6e0e5"
   },
   "source": [
    "# Deep Learning (Approach #4) for Microsoft Malware\n",
    "\n",
    "### Load Train.csv"
   ]
  },
  {
   "cell_type": "code",
   "execution_count": 1,
   "metadata": {
    "_cell_guid": "79c7e3d0-c299-4dcb-8224-4455121ee9b0",
    "_uuid": "d629ff2d2480ee46fbb7e2d37f6b5fab8052498a",
    "execution": {
     "iopub.execute_input": "2023-12-10T00:21:07.392273Z",
     "iopub.status.busy": "2023-12-10T00:21:07.391965Z",
     "iopub.status.idle": "2023-12-10T00:25:06.366920Z",
     "shell.execute_reply": "2023-12-10T00:25:06.365958Z",
     "shell.execute_reply.started": "2023-12-10T00:21:07.392227Z"
    }
   },
   "outputs": [],
   "source": [
    "\n",
    "import pandas as pd, numpy as np, os, gc\n",
    "\n",
    "\n",
    "FE = ['EngineVersion','AppVersion','AvSigVersion','Census_OSVersion']\n",
    "\n",
    "OHE = ['AVProductStatesIdentifier',\n",
    " 'AVProductsEnabled',\n",
    " 'AVProductsInstalled',\n",
    " 'Census_ActivationChannel',\n",
    " 'Census_ChassisTypeName',\n",
    " 'Census_FirmwareManufacturerIdentifier',\n",
    " 'Census_GenuineStateName',\n",
    " 'Census_HasOpticalDiskDrive',\n",
    " 'Census_InternalBatteryNumberOfCharges',\n",
    " 'Census_InternalBatteryType',\n",
    " 'Census_InternalPrimaryDiagonalDisplaySizeInInches',\n",
    " 'Census_InternalPrimaryDisplayResolutionHorizontal',\n",
    " 'Census_InternalPrimaryDisplayResolutionVertical',\n",
    " 'Census_IsAlwaysOnAlwaysConnectedCapable',\n",
    " 'Census_IsPenCapable',\n",
    " 'Census_IsTouchEnabled',\n",
    " 'Census_MDC2FormFactor',\n",
    " 'Census_OEMNameIdentifier',\n",
    " 'Census_OSEdition',\n",
    " 'Census_OSInstallLanguageIdentifier',\n",
    " 'Census_PowerPlatformRoleName',\n",
    " 'Census_PrimaryDiskTotalCapacity',\n",
    " 'Census_PrimaryDiskTypeName',\n",
    " 'Census_ProcessorCoreCount',\n",
    " 'Census_ProcessorModelIdentifier',\n",
    " 'Census_TotalPhysicalRAM',\n",
    " 'CityIdentifier',\n",
    " 'CountryIdentifier',\n",
    " 'DefaultBrowsersIdentifier',\n",
    " 'GeoNameIdentifier',\n",
    " 'IsSxsPassiveMode',\n",
    " 'LocaleEnglishNameIdentifier',\n",
    " 'OsBuild',\n",
    " 'OsSuite',\n",
    " 'Processor',\n",
    " 'RtpStateBitfield',\n",
    " 'SmartScreen',\n",
    " 'Wdft_IsGamer',\n",
    " 'Wdft_RegionIdentifier']\n",
    "\n",
    "\n",
    "dtypes = {}\n",
    "for x in FE+OHE: dtypes[x] = 'category'\n",
    "dtypes['MachineIdentifier'] = 'str'\n",
    "dtypes['HasDetections'] = 'int8'\n",
    "\n",
    "\n",
    "df_train = pd.read_csv('../input/train.csv', usecols=dtypes.keys(), dtype=dtypes)\n",
    "\n",
    "num_samples = 1000000  # 1 million for each class\n",
    "\n",
    "positive_samples = df_train[df_train['HasDetections'] == 1].sample(n=num_samples, random_state=42)\n",
    "negative_samples = df_train[df_train['HasDetections'] == 0].sample(n=num_samples, random_state=42)\n",
    "\n",
    "# Concatenate the samples to create the final dataframe\n",
    "df_train_balanced = pd.concat([positive_samples, negative_samples], axis=0)\n",
    "\n",
    "# Shuffle the dataframe to ensure randomness\n",
    "df_train = df_train_balanced.sample(frac=1, random_state=42).reset_index(drop=True)\n",
    "\n",
    "x=gc.collect()"
   ]
  },
  {
   "cell_type": "markdown",
   "metadata": {
    "_uuid": "f7a58a55b1617fefb9e9577546e11aa6252e4935"
   },
   "source": [
    "# Statistically Encode Variables\n",
    "We will encode the variables in `FE` by frequency and all the variables in `OHE` will need statistical one-hot-encoding. In total, we only consider 43 variables and ignore the rest.\n",
    "  \n",
    "If we encode everything using OHE, the number of features produced are extremely high since there are 211,562 values. (This is when we leave aside Census_OEMModelIdentifier's 175,366 values or Census_SystemVolumeTotalCapacity's 536,849).\n",
    "\n",
    "To solve this, we take help of a statistical trick. First we'll assume we have a random sample. Then we test the following hypotheses :   \n",
    "\n",
    " $$H_0: \\text{Prob(HasDetections=1 given value is present)} = 0.5 $$ \n",
    " $$H_A: \\text{Prob(HasDetections=1 given value is present)} \\ne 0.5$$  \n",
    "    \n",
    "The test statistic z-value equals \\\\( \\hat{p} \\\\), the observed HasDetections rate given value is present, minus 0.5 divided by the standard deviation of \\\\( \\hat{p} \\\\). The Central Limit Theorem tells us\n",
    "\n",
    "$$\\text{z-value} = \\frac{\\hat{p}-0.5}{SD(\\hat{p})} = 2 (\\hat{p} - 0.5)\\sqrt{n} $$\n",
    "\n",
    "where \\\\(n\\\\) is the number of occurences of the value. If abs(\\\\(z\\\\)) > 2.0, we are 95% confident that Prob(HasDetections=1 given value is present) is not equal to 0.5 and we will include a boolean for this value in our model. We would employ a \\\\(z\\\\) threshold of 5.0 and require \\\\( 10^{-7}n>0.005 \\\\). This adds 350 new boolean variables (instead of naively one-hot-encoding 211,562)."
   ]
  },
  {
   "cell_type": "code",
   "execution_count": 2,
   "metadata": {
    "_kg_hide-input": true,
    "_uuid": "1fadf38ea607fb94432c728a140c53f0f66139ca",
    "execution": {
     "iopub.execute_input": "2023-12-10T00:25:06.368536Z",
     "iopub.status.busy": "2023-12-10T00:25:06.368313Z",
     "iopub.status.idle": "2023-12-10T00:25:06.379889Z",
     "shell.execute_reply": "2023-12-10T00:25:06.379159Z",
     "shell.execute_reply.started": "2023-12-10T00:25:06.368498Z"
    }
   },
   "outputs": [],
   "source": [
    "import math\n",
    "\n",
    "def nan_check(x):\n",
    "    if isinstance(x,float):\n",
    "        if math.isnan(x):\n",
    "            return True\n",
    "    return False\n",
    "\n",
    "def encode_FE(df,column):\n",
    "    freq = df[column].value_counts(dropna=False)\n",
    "    n = column+\"_FE\"\n",
    "    df[n] = df[column].map(freq)/freq.max()\n",
    "    return [n]\n",
    "\n",
    "def encode_OHE(df, column, filter, zvalue, tar='HasDetections', m=0.5):\n",
    "    value_counts = df[column].value_counts(dropna=False)\n",
    "    cvd = value_counts.to_dict()\n",
    "    vals = len(value_counts)\n",
    "    th = filter * len(df)\n",
    "    sd = zvalue * 0.5/ math.sqrt(th)\n",
    "\n",
    "    n = []; ct = 0; d = {}\n",
    "    \n",
    "    for x in value_counts.index:\n",
    "        try:\n",
    "            if value_counts[x]<th: break\n",
    "            sd = zvalue * 0.5/ math.sqrt(value_counts[x])\n",
    "        except:\n",
    "            if cvd[x]<th: break\n",
    "            sd = zvalue * 0.5/ math.sqrt(cvd[x])\n",
    "        if nan_check(x): r = df[df[column].isna()][tar].mean()\n",
    "        else: r = df[df[column]==x][tar].mean()\n",
    "        if abs(r-m)>sd:\n",
    "            nm = column+'_BE_'+str(x)\n",
    "            if nan_check(x): df[nm] = (df[column].isna()).astype('int8')\n",
    "            else: df[nm] = (df[column]==x).astype('int8')\n",
    "            n.append(nm)\n",
    "            d[x] = 1\n",
    "            \n",
    "        ct += 1\n",
    "        if (ct+1)>=vals: break\n",
    "    return [n,d]\n",
    "\n",
    "\n",
    "def encode_OHE_test(df,column,dt):\n",
    "    n = []\n",
    "    for x in dt: \n",
    "        n += encode_BE(df,column,x)\n",
    "    return n\n",
    "\n",
    "\n",
    "def encode_BE(df,column,val):\n",
    "    n = column+\"_BE_\"+str(val)\n",
    "    if nan_check(val):\n",
    "        df[n] = df[column].isna()\n",
    "    else:\n",
    "        df[n] = df[column]==val\n",
    "    df[n] = df[n].astype('int8')\n",
    "    return [n]"
   ]
  },
  {
   "cell_type": "code",
   "execution_count": 3,
   "metadata": {
    "_uuid": "afa1ab97768b80133161a00f0037f652f29e648b",
    "execution": {
     "iopub.execute_input": "2023-12-10T00:25:06.381315Z",
     "iopub.status.busy": "2023-12-10T00:25:06.381102Z",
     "iopub.status.idle": "2023-12-10T00:29:12.380136Z",
     "shell.execute_reply": "2023-12-10T00:29:12.379263Z",
     "shell.execute_reply.started": "2023-12-10T00:25:06.381277Z"
    }
   },
   "outputs": [
    {
     "name": "stdout",
     "output_type": "stream",
     "text": [
      "Encoded 352 new variables\n",
      "Removed original 43 variables\n"
     ]
    }
   ],
   "source": [
    "cols = []; dd = []\n",
    "\n",
    "\n",
    "for x in FE:\n",
    "    cols += encode_FE(df_train,x)\n",
    "for x in OHE:\n",
    "    tmp = encode_OHE(df_train,x,0.005,5)\n",
    "    cols += tmp[0]; dd.append(tmp[1])\n",
    "print('Encoded',len(cols),'new variables')\n",
    "\n",
    "for x in FE+OHE:\n",
    "    del df_train[x]\n",
    "print('Removed original',len(FE+OHE),'variables')\n",
    "x = gc.collect()"
   ]
  },
  {
   "cell_type": "markdown",
   "metadata": {
    "_uuid": "c99423ce7d2c30395ddddaf39ec7d56d87defa17"
   },
   "source": [
    "# Build and Train Network\n",
    "[ 200 -> 300 -> 100 -> 10 -> 1 ] Architecture. With Custom Call-back based on AUC score.\n"
   ]
  },
  {
   "cell_type": "code",
   "execution_count": 5,
   "metadata": {
    "_kg_hide-input": true,
    "_kg_hide-output": false,
    "_uuid": "dc3ee8729926910d48e9543e73e7f29791dc399d",
    "execution": {
     "iopub.execute_input": "2023-12-10T00:29:12.395757Z",
     "iopub.status.busy": "2023-12-10T00:29:12.395456Z",
     "iopub.status.idle": "2023-12-10T00:29:15.903671Z",
     "shell.execute_reply": "2023-12-10T00:29:15.902697Z",
     "shell.execute_reply.started": "2023-12-10T00:29:12.395701Z"
    }
   },
   "outputs": [
    {
     "name": "stderr",
     "output_type": "stream",
     "text": [
      "Using TensorFlow backend.\n"
     ]
    }
   ],
   "source": [
    "from keras import callbacks\n",
    "from sklearn.metrics import roc_auc_score\n",
    "\n",
    "## Implementing custom callback to save model according to best AUC scores\n",
    "class printAUC(callbacks.Callback):\n",
    "    def __init__(self, X_train, y_train):\n",
    "        super(printAUC, self).__init__()\n",
    "        self.bestAUC = 0\n",
    "        self.X_train = X_train\n",
    "        self.y_train = y_train\n",
    "        \n",
    "    def on_epoch_end(self, epoch, logs={}):\n",
    "        pred = self.model.predict(np.array(self.X_train))\n",
    "        auc = roc_auc_score(self.y_train, pred)\n",
    "        print(\"Train AUC: \" + str(auc))\n",
    "        pred = self.model.predict(self.validation_data[0])\n",
    "        auc = roc_auc_score(self.validation_data[1], pred)\n",
    "        print (\"Validation AUC: \" + str(auc))\n",
    "        if (self.bestAUC < auc) :\n",
    "            self.bestAUC = auc\n",
    "            self.model.save(\"bestNet.h5\", overwrite=True)\n",
    "        return"
   ]
  },
  {
   "cell_type": "code",
   "execution_count": 6,
   "metadata": {
    "_uuid": "611fc3d8e0d92288a6c1d558a9ebaed10cef97e5",
    "execution": {
     "iopub.execute_input": "2023-12-10T00:29:15.906270Z",
     "iopub.status.busy": "2023-12-10T00:29:15.905584Z",
     "iopub.status.idle": "2023-12-10T00:29:22.429233Z",
     "shell.execute_reply": "2023-12-10T00:29:22.428326Z",
     "shell.execute_reply.started": "2023-12-10T00:29:15.906211Z"
    }
   },
   "outputs": [
    {
     "name": "stdout",
     "output_type": "stream",
     "text": [
      "_________________________________________________________________\n",
      "Layer (type)                 Output Shape              Param #   \n",
      "=================================================================\n",
      "dense_1 (Dense)              (None, 200)               70600     \n",
      "_________________________________________________________________\n",
      "dropout_1 (Dropout)          (None, 200)               0         \n",
      "_________________________________________________________________\n",
      "batch_normalization_1 (Batch (None, 200)               800       \n",
      "_________________________________________________________________\n",
      "activation_1 (Activation)    (None, 200)               0         \n",
      "_________________________________________________________________\n",
      "dense_2 (Dense)              (None, 300)               60300     \n",
      "_________________________________________________________________\n",
      "dropout_2 (Dropout)          (None, 300)               0         \n",
      "_________________________________________________________________\n",
      "batch_normalization_2 (Batch (None, 300)               1200      \n",
      "_________________________________________________________________\n",
      "activation_2 (Activation)    (None, 300)               0         \n",
      "_________________________________________________________________\n",
      "dense_3 (Dense)              (None, 100)               30100     \n",
      "_________________________________________________________________\n",
      "dropout_3 (Dropout)          (None, 100)               0         \n",
      "_________________________________________________________________\n",
      "batch_normalization_3 (Batch (None, 100)               400       \n",
      "_________________________________________________________________\n",
      "activation_3 (Activation)    (None, 100)               0         \n",
      "_________________________________________________________________\n",
      "dense_4 (Dense)              (None, 10)                1010      \n",
      "_________________________________________________________________\n",
      "batch_normalization_4 (Batch (None, 10)                40        \n",
      "_________________________________________________________________\n",
      "activation_4 (Activation)    (None, 10)                0         \n",
      "_________________________________________________________________\n",
      "dense_5 (Dense)              (None, 1)                 11        \n",
      "=================================================================\n",
      "Total params: 164,461\n",
      "Trainable params: 163,241\n",
      "Non-trainable params: 1,220\n",
      "_________________________________________________________________\n"
     ]
    }
   ],
   "source": [
    "from sklearn.model_selection import train_test_split\n",
    "from keras.models import Sequential\n",
    "from keras.layers import Dense, Dropout, BatchNormalization, Activation\n",
    "from keras.callbacks import LearningRateScheduler\n",
    "from keras.optimizers import Adam\n",
    "\n",
    "\n",
    "X_train, X_val, Y_train, Y_val = train_test_split(\n",
    "    df_train[cols], df_train['HasDetections'], stratify =df_train['HasDetections'],  test_size = 0.3)\n",
    "\n",
    "\n",
    "model = Sequential()\n",
    "model.add(Dense(200,input_dim=len(cols)))\n",
    "model.add(Dropout(0.4))\n",
    "model.add(BatchNormalization())\n",
    "model.add(Activation('relu'))\n",
    "model.add(Dense(300))\n",
    "model.add(Dropout(0.4))\n",
    "model.add(BatchNormalization())\n",
    "model.add(Activation('relu'))\n",
    "model.add(Dense(100))\n",
    "model.add(Dropout(0.2))\n",
    "model.add(BatchNormalization())\n",
    "model.add(Activation('relu'))\n",
    "model.add(Dense(10))\n",
    "model.add(BatchNormalization())\n",
    "model.add(Activation('relu'))\n",
    "model.add(Dense(1, activation='sigmoid'))\n",
    "\n",
    "\n",
    "model.compile(optimizer=Adam(lr=0.01), loss=\"binary_crossentropy\", metrics=[\"accuracy\"])\n",
    "\n",
    "## Using a decaying learning rate starting from 0.02 \n",
    "annealer = LearningRateScheduler(lambda x: 2e-2 * 0.98 ** x)\n",
    "\n",
    "\n",
    "model.summary()"
   ]
  },
  {
   "cell_type": "code",
   "execution_count": 7,
   "metadata": {
    "execution": {
     "iopub.execute_input": "2023-12-10T00:29:22.431248Z",
     "iopub.status.busy": "2023-12-10T00:29:22.430911Z",
     "iopub.status.idle": "2023-12-10T01:01:02.912288Z",
     "shell.execute_reply": "2023-12-10T01:01:02.911511Z",
     "shell.execute_reply.started": "2023-12-10T00:29:22.431188Z"
    }
   },
   "outputs": [
    {
     "name": "stdout",
     "output_type": "stream",
     "text": [
      "Train on 1400000 samples, validate on 600000 samples\n",
      "Epoch 1/10\n",
      " - 112s - loss: 0.6365 - acc: 0.6283 - val_loss: 0.6354 - val_acc: 0.6267\n",
      "Train AUC: 0.6950566852142855\n",
      "Validation AUC: 0.6935331719611112\n",
      "Epoch 2/10\n",
      " - 107s - loss: 0.6306 - acc: 0.6349 - val_loss: 0.6326 - val_acc: 0.6311\n",
      "Train AUC: 0.6993871493438774\n",
      "Validation AUC: 0.6972219708555557\n",
      "Epoch 3/10\n",
      " - 107s - loss: 0.6285 - acc: 0.6373 - val_loss: 0.6330 - val_acc: 0.6331\n",
      "Train AUC: 0.7017391297336735\n",
      "Validation AUC: 0.69861416175\n",
      "Epoch 4/10\n",
      " - 107s - loss: 0.6270 - acc: 0.6389 - val_loss: 0.6337 - val_acc: 0.6265\n",
      "Train AUC: 0.7051137597122448\n",
      "Validation AUC: 0.7010942219944444\n",
      "Epoch 5/10\n",
      " - 107s - loss: 0.6262 - acc: 0.6400 - val_loss: 0.6321 - val_acc: 0.6356\n",
      "Train AUC: 0.704244706037755\n",
      "Validation AUC: 0.6996151483833333\n",
      "Epoch 6/10\n",
      " - 109s - loss: 0.6250 - acc: 0.6408 - val_loss: 0.6286 - val_acc: 0.6378\n",
      "Train AUC: 0.7069870582663267\n",
      "Validation AUC: 0.701490949111111\n",
      "Epoch 7/10\n",
      " - 109s - loss: 0.6244 - acc: 0.6418 - val_loss: 0.6330 - val_acc: 0.6356\n",
      "Train AUC: 0.7088202381816329\n",
      "Validation AUC: 0.7032406932555554\n",
      "Epoch 8/10\n",
      " - 109s - loss: 0.6238 - acc: 0.6426 - val_loss: 0.6299 - val_acc: 0.6380\n",
      "Train AUC: 0.7098721112336733\n",
      "Validation AUC: 0.7030273833555557\n",
      "Epoch 9/10\n",
      " - 108s - loss: 0.6232 - acc: 0.6430 - val_loss: 0.6267 - val_acc: 0.6428\n",
      "Train AUC: 0.7114827872551018\n",
      "Validation AUC: 0.7043483692833332\n",
      "Epoch 10/10\n",
      " - 108s - loss: 0.6226 - acc: 0.6441 - val_loss: 0.6273 - val_acc: 0.6399\n",
      "Train AUC: 0.7117067598683672\n",
      "Validation AUC: 0.7038193174777777\n"
     ]
    }
   ],
   "source": [
    "history = model.fit(X_train,Y_train, batch_size=128, epochs = 10, callbacks=[annealer,\n",
    "          printAUC(X_train, Y_train)], validation_data = (X_val,Y_val), verbose=2)"
   ]
  },
  {
   "cell_type": "code",
   "execution_count": 8,
   "metadata": {
    "execution": {
     "iopub.execute_input": "2023-12-10T01:01:02.913825Z",
     "iopub.status.busy": "2023-12-10T01:01:02.913604Z",
     "iopub.status.idle": "2023-12-10T01:01:03.279600Z",
     "shell.execute_reply": "2023-12-10T01:01:03.278131Z",
     "shell.execute_reply.started": "2023-12-10T01:01:02.913786Z"
    }
   },
   "outputs": [
    {
     "data": {
      "text/plain": [
       "([<matplotlib.axis.XTick at 0x7ee1a02232e8>,\n",
       "  <matplotlib.axis.XTick at 0x7ee1a020efd0>,\n",
       "  <matplotlib.axis.XTick at 0x7ee1a020e8d0>,\n",
       "  <matplotlib.axis.XTick at 0x7ee1a02766d8>,\n",
       "  <matplotlib.axis.XTick at 0x7ee1a0277470>,\n",
       "  <matplotlib.axis.XTick at 0x7ee1a0277a20>,\n",
       "  <matplotlib.axis.XTick at 0x7ee1a0277a90>,\n",
       "  <matplotlib.axis.XTick at 0x7ee1a0279d68>,\n",
       "  <matplotlib.axis.XTick at 0x7ee1a02775f8>,\n",
       "  <matplotlib.axis.XTick at 0x7ee1a0276ac8>],\n",
       " <a list of 10 Text xticklabel objects>)"
      ]
     },
     "execution_count": 8,
     "metadata": {},
     "output_type": "execute_result"
    },
    {
     "data": {
      "image/png": "[encoded data removed]",
      "text/plain": [
       "<Figure size 432x288 with 1 Axes>"
      ]
     },
     "metadata": {},
     "output_type": "display_data"
    }
   ],
   "source": [
    "import matplotlib.pyplot as plt\n",
    "\n",
    "plt.plot(history.history['loss'], label='Training Loss')\n",
    "plt.plot(history.history['val_loss'], label='Validation Loss')\n",
    "plt.title(\"Loss curves\")\n",
    "plt.xlabel(\"Epoch\")\n",
    "plt.ylabel(\"Loss\")\n",
    "plt.legend()\n",
    "\n",
    "plt.xticks(range(10), range(1, 11))"
   ]
  },
  {
   "cell_type": "code",
   "execution_count": 9,
   "metadata": {
    "execution": {
     "iopub.execute_input": "2023-12-10T01:01:03.282264Z",
     "iopub.status.busy": "2023-12-10T01:01:03.281825Z",
     "iopub.status.idle": "2023-12-10T01:01:03.643760Z",
     "shell.execute_reply": "2023-12-10T01:01:03.642542Z",
     "shell.execute_reply.started": "2023-12-10T01:01:03.282197Z"
    }
   },
   "outputs": [
    {
     "data": {
      "text/plain": [
       "([<matplotlib.axis.XTick at 0x7ee1a0307f98>,\n",
       "  <matplotlib.axis.XTick at 0x7ee1a03180b8>,\n",
       "  <matplotlib.axis.XTick at 0x7ee1a0318400>,\n",
       "  <matplotlib.axis.XTick at 0x7ee1a036d550>,\n",
       "  <matplotlib.axis.XTick at 0x7ee1a0365978>,\n",
       "  <matplotlib.axis.XTick at 0x7ee1a0365198>,\n",
       "  <matplotlib.axis.XTick at 0x7ee1a036d048>,\n",
       "  <matplotlib.axis.XTick at 0x7ee1a0365080>,\n",
       "  <matplotlib.axis.XTick at 0x7ee1a0365940>,\n",
       "  <matplotlib.axis.XTick at 0x7ee1a0358278>],\n",
       " <a list of 10 Text xticklabel objects>)"
      ]
     },
     "execution_count": 9,
     "metadata": {},
     "output_type": "execute_result"
    },
    {
     "data": {
      "image/png": "[encoded data removed]",
      "text/plain": [
       "<Figure size 432x288 with 1 Axes>"
      ]
     },
     "metadata": {},
     "output_type": "display_data"
    }
   ],
   "source": [
    "plt.plot(history.history['acc'], label='Training Acc')\n",
    "plt.plot(history.history['val_acc'], label='Validation Acc')\n",
    "plt.title(\"Accuracy Plot\")\n",
    "plt.xlabel(\"Epoch\")\n",
    "plt.ylabel(\"Accuracy\")\n",
    "plt.legend()\n",
    "\n",
    "plt.xticks(range(10), range(1, 11))"
   ]
  },
  {
   "cell_type": "markdown",
   "metadata": {
    "_uuid": "4dbc958dd56c5af4d74bdeded9696ff244246f02"
   },
   "source": [
    "# Predict Test and Submit to Kaggle"
   ]
  },
  {
   "cell_type": "code",
   "execution_count": 12,
   "metadata": {
    "_kg_hide-input": true,
    "_uuid": "96e7fbf730e30707f04e4b192c839c820af5dee4",
    "execution": {
     "iopub.execute_input": "2023-12-10T01:05:23.733033Z",
     "iopub.status.busy": "2023-12-10T01:05:23.732698Z",
     "iopub.status.idle": "2023-12-10T01:15:30.000793Z",
     "shell.execute_reply": "2023-12-10T01:15:29.999779Z",
     "shell.execute_reply.started": "2023-12-10T01:05:23.732978Z"
    }
   },
   "outputs": [
    {
     "name": "stdout",
     "output_type": "stream",
     "text": [
      "Loaded 2000000 rows of TEST.CSV!\n",
      "  encoded and predicted part 1\n",
      "Loaded 2000000 rows of TEST.CSV!\n",
      "  encoded and predicted part 2\n",
      "Loaded 2000000 rows of TEST.CSV!\n",
      "  encoded and predicted part 3\n",
      "Loaded 1853253 rows of TEST.CSV!\n",
      "  encoded and predicted part 4\n"
     ]
    }
   ],
   "source": [
    "# del df_train\n",
    "# del X_train, X_val, Y_train, Y_val\n",
    "x = gc.collect()\n",
    "\n",
    "\n",
    "from keras.models import load_model\n",
    "model = load_model('bestNet.h5')\n",
    "\n",
    "pred = np.zeros((7853253,1))\n",
    "id = 1\n",
    "chunksize = 2000000\n",
    "for df_test in pd.read_csv('../input/test.csv', \n",
    "            chunksize = chunksize, usecols=list(dtypes.keys())[0:-1], dtype=dtypes):\n",
    "    print ('Loaded',len(df_test),'rows of TEST.CSV!')\n",
    "\n",
    "    cols = []\n",
    "    for x in FE:\n",
    "        cols += encode_FE(df_test,x)\n",
    "    for x in range(len(OHE)):\n",
    "        cols += encode_OHE_test(df_test,OHE[x],dd[x])\n",
    "\n",
    "    end = (id)*chunksize\n",
    "    if end>7853253: end = 7853253\n",
    "    pred[(id-1)*chunksize:end] = model.predict(df_test[cols])\n",
    "    print('  encoded and predicted part',id)\n",
    "    id += 1"
   ]
  },
  {
   "cell_type": "code",
   "execution_count": 13,
   "metadata": {
    "_uuid": "c50d62226fb92795556adcf192b685c3e496b14e",
    "execution": {
     "iopub.execute_input": "2023-12-10T01:15:30.003234Z",
     "iopub.status.busy": "2023-12-10T01:15:30.002859Z",
     "iopub.status.idle": "2023-12-10T01:16:54.676299Z",
     "shell.execute_reply": "2023-12-10T01:16:54.675557Z",
     "shell.execute_reply.started": "2023-12-10T01:15:30.003167Z"
    }
   },
   "outputs": [],
   "source": [
    "\n",
    "df_test = pd.read_csv('../input/test.csv', usecols=['MachineIdentifier'])\n",
    "df_test['HasDetections'] = pred\n",
    "df_test.to_csv('submission3.csv', index=False)"
   ]
  },
  {
   "cell_type": "code",
   "execution_count": null,
   "metadata": {},
   "outputs": [],
   "source": []
  }
 ],
 "metadata": {
  "kaggle": {
   "accelerator": "gpu",
   "dataSources": [
    {
     "databundleVersionId": 220065,
     "sourceId": 10683,
     "sourceType": "competition"
    }
   ],
   "dockerImageVersionId": 20477,
   "isGpuEnabled": true,
   "isInternetEnabled": false,
   "language": "python",
   "sourceType": "notebook"
  },
  "kernelspec": {
   "display_name": "Python 3 (ipykernel)",
   "language": "python",
   "name": "python3"
  },
  "language_info": {
   "codemirror_mode": {
    "name": "ipython",
    "version": 3
   },
   "file_extension": ".py",
   "mimetype": "text/x-python",
   "name": "python",
   "nbconvert_exporter": "python",
   "pygments_lexer": "ipython3",
   "version": "3.11.4"
  }
 },
 "nbformat": 4,
 "nbformat_minor": 4
}
